{
 "cells": [
  {
   "cell_type": "markdown",
   "metadata": {
    "collapsed": true
   },
   "source": [
    "# Jeopardy Hacking"
   ]
  },
  {
   "cell_type": "markdown",
   "metadata": {},
   "source": [
    "Here we have a dataset of historical questions from the gameshow Jeopardy\n",
    "\n",
    "The goal is to determine any trends in the questions asked on Jeopardy to determine if we can gain an edge if we were to compete on the show"
   ]
  },
  {
   "cell_type": "markdown",
   "metadata": {},
   "source": [
    "# Import data"
   ]
  },
  {
   "cell_type": "code",
   "execution_count": 1,
   "metadata": {},
   "outputs": [
    {
     "name": "stdout",
     "output_type": "stream",
     "text": [
      "   Show Number    Air Date      Round                         Category  Value  \\\n",
      "0         4680  2004-12-31  Jeopardy!                          HISTORY   $200   \n",
      "1         4680  2004-12-31  Jeopardy!  ESPN's TOP 10 ALL-TIME ATHLETES   $200   \n",
      "2         4680  2004-12-31  Jeopardy!      EVERYBODY TALKS ABOUT IT...   $200   \n",
      "\n",
      "                                            Question      Answer  \n",
      "0  For the last 8 years of his life, Galileo was ...  Copernicus  \n",
      "1  No. 2: 1912 Olympian; football star at Carlisl...  Jim Thorpe  \n",
      "2  The city of Yuma in this state has a record av...     Arizona  \n"
     ]
    }
   ],
   "source": [
    "import pandas as pd\n",
    "import numpy as np\n",
    "import random\n",
    "\n",
    "jeopardy = pd.read_csv('jeopardy.csv')\n",
    "print(jeopardy.head(3))\n"
   ]
  },
  {
   "cell_type": "markdown",
   "metadata": {},
   "source": [
    "# Clean data"
   ]
  },
  {
   "cell_type": "markdown",
   "metadata": {},
   "source": [
    "### Clean columns"
   ]
  },
  {
   "cell_type": "code",
   "execution_count": 2,
   "metadata": {},
   "outputs": [
    {
     "name": "stdout",
     "output_type": "stream",
     "text": [
      "Index(['Show Number', ' Air Date', ' Round', ' Category', ' Value',\n",
      "       ' Question', ' Answer'],\n",
      "      dtype='object')\n"
     ]
    }
   ],
   "source": [
    "print(jeopardy.columns)\n"
   ]
  },
  {
   "cell_type": "code",
   "execution_count": 3,
   "metadata": {},
   "outputs": [],
   "source": [
    "jeopardy.columns = jeopardy.columns.str.strip().str.replace(\" \",\"_\").str.lower()\n"
   ]
  },
  {
   "cell_type": "code",
   "execution_count": 4,
   "metadata": {},
   "outputs": [
    {
     "name": "stdout",
     "output_type": "stream",
     "text": [
      "Index(['show_number', 'air_date', 'round', 'category', 'value', 'question',\n",
      "       'answer'],\n",
      "      dtype='object')\n"
     ]
    }
   ],
   "source": [
    "print(jeopardy.columns)\n"
   ]
  },
  {
   "cell_type": "markdown",
   "metadata": {},
   "source": [
    "### Clean 'question' and 'answer' columns"
   ]
  },
  {
   "cell_type": "code",
   "execution_count": 5,
   "metadata": {},
   "outputs": [
    {
     "name": "stdout",
     "output_type": "stream",
     "text": [
      "0    For the last 8 years of his life, Galileo was ...\n",
      "1    No. 2: 1912 Olympian; football star at Carlisl...\n",
      "2    The city of Yuma in this state has a record av...\n",
      "3    In 1963, live on \"The Art Linkletter Show\", th...\n",
      "4    Signer of the Dec. of Indep., framer of the Co...\n",
      "Name: question, dtype: object\n",
      "0    Copernicus\n",
      "1    Jim Thorpe\n",
      "2       Arizona\n",
      "3    McDonald's\n",
      "4    John Adams\n",
      "Name: answer, dtype: object\n"
     ]
    }
   ],
   "source": [
    "print(jeopardy.question[:5])\n",
    "print(jeopardy.answer[:5])\n"
   ]
  },
  {
   "cell_type": "code",
   "execution_count": 6,
   "metadata": {},
   "outputs": [],
   "source": [
    "\"\"\"\n",
    "\n",
    "Remove any non-word characters to create a dictionary of words used\n",
    "\n",
    "\"\"\"\n",
    "\n",
    "jeopardy['question'] = jeopardy.question.str.replace('\\W', ' ', regex=True).str.replace('  ', ' ').str.lower()\n",
    "jeopardy['answer'] = jeopardy.answer.str.replace('\\W', ' ', regex=True).str.replace('  ', ' ').str.lower()\n"
   ]
  },
  {
   "cell_type": "code",
   "execution_count": 7,
   "metadata": {
    "scrolled": true
   },
   "outputs": [
    {
     "name": "stdout",
     "output_type": "stream",
     "text": [
      "0    for the last 8 years of his life galileo was u...\n",
      "1    no 2 1912 olympian football star at carlisle i...\n",
      "2    the city of yuma in this state has a record av...\n",
      "3    in 1963 live on the art linkletter show  this ...\n",
      "4    signer of the dec of indep  framer of the cons...\n",
      "Name: question, dtype: object\n",
      "0    copernicus\n",
      "1    jim thorpe\n",
      "2       arizona\n",
      "3    mcdonald s\n",
      "4    john adams\n",
      "Name: answer, dtype: object\n"
     ]
    }
   ],
   "source": [
    "print(jeopardy.question[:5])\n",
    "print(jeopardy.answer[:5])\n"
   ]
  },
  {
   "cell_type": "markdown",
   "metadata": {},
   "source": [
    "### Clean question 'value' column"
   ]
  },
  {
   "cell_type": "code",
   "execution_count": 8,
   "metadata": {},
   "outputs": [
    {
     "name": "stdout",
     "output_type": "stream",
     "text": [
      "400.0     3892\n",
      "800.0     2980\n",
      "200.0     2784\n",
      "1000.0    1980\n",
      "600.0     1890\n",
      "          ... \n",
      "7400.0       1\n",
      "1492.0       1\n",
      "6200.0       1\n",
      "6800.0       1\n",
      "3389.0       1\n",
      "Name: value, Length: 72, dtype: int64\n"
     ]
    },
    {
     "name": "stderr",
     "output_type": "stream",
     "text": [
      "/tmp/ipykernel_11464/2579878418.py:1: FutureWarning: The default value of regex will change from True to False in a future version. In addition, single character regular expressions will *not* be treated as literal strings when regex=True.\n",
      "  jeopardy['value'] = jeopardy.value.replace('None', np.nan).str.replace('$', '').str.replace(',', '').astype(float)\n"
     ]
    }
   ],
   "source": [
    "jeopardy['value'] = jeopardy.value.replace('None', np.nan).str.replace('$', '').str.replace(',', '').astype(float)\n",
    "print(jeopardy.value.value_counts(dropna=False))\n"
   ]
  },
  {
   "cell_type": "markdown",
   "metadata": {},
   "source": [
    "### Clean 'air_date' column"
   ]
  },
  {
   "cell_type": "code",
   "execution_count": 9,
   "metadata": {},
   "outputs": [
    {
     "name": "stdout",
     "output_type": "stream",
     "text": [
      "0   2004-12-31\n",
      "1   2004-12-31\n",
      "2   2004-12-31\n",
      "3   2004-12-31\n",
      "4   2004-12-31\n",
      "Name: air_date, dtype: datetime64[ns]\n"
     ]
    }
   ],
   "source": [
    "jeopardy['air_date'] = pd.to_datetime(jeopardy.air_date)\n",
    "print(jeopardy.air_date[:5])\n"
   ]
  },
  {
   "cell_type": "markdown",
   "metadata": {},
   "source": [
    "# Determine if the answers are ever in the questions"
   ]
  },
  {
   "cell_type": "code",
   "execution_count": 10,
   "metadata": {},
   "outputs": [],
   "source": [
    "\"\"\"\n",
    "\n",
    "This function determines how much of the answer is in the question as a ratio\n",
    "\n",
    "\"\"\"\n",
    "\n",
    "def count_matches(row):\n",
    "    split_answer = row['answer'].split()\n",
    "    split_question = row['question'].split()\n",
    "    if 'the' in split_answer:\n",
    "        split_answer.remove('the')\n",
    "    if len(split_answer) == 0:\n",
    "        return 0\n",
    "    match_count = 0\n",
    "    for word in split_answer:\n",
    "        if word in split_question:\n",
    "            match_count += 1\n",
    "    return match_count / len(split_answer)\n"
   ]
  },
  {
   "cell_type": "code",
   "execution_count": 11,
   "metadata": {},
   "outputs": [
    {
     "name": "stdout",
     "output_type": "stream",
     "text": [
      "0.000000    17247\n",
      "0.500000     1449\n",
      "0.333333      622\n",
      "0.250000      204\n",
      "1.000000      128\n",
      "0.666667      118\n",
      "0.200000       72\n",
      "0.166667       37\n",
      "0.400000       34\n",
      "0.750000       20\n",
      "0.142857       20\n",
      "0.125000       12\n",
      "0.600000       10\n",
      "0.285714        7\n",
      "0.428571        4\n",
      "0.800000        3\n",
      "0.571429        2\n",
      "0.111111        2\n",
      "0.181818        2\n",
      "0.307692        1\n",
      "0.300000        1\n",
      "0.444444        1\n",
      "0.375000        1\n",
      "0.222222        1\n",
      "0.350000        1\n",
      "Name: answer_in_question, dtype: int64\n"
     ]
    }
   ],
   "source": [
    "jeopardy['answer_in_question'] = jeopardy.apply(count_matches, axis=1)\n",
    "print(jeopardy['answer_in_question'].value_counts())\n"
   ]
  },
  {
   "cell_type": "code",
   "execution_count": 12,
   "metadata": {},
   "outputs": [
    {
     "name": "stdout",
     "output_type": "stream",
     "text": [
      "0.06294645581984942\n"
     ]
    }
   ],
   "source": [
    "print(jeopardy['answer_in_question'].mean())\n"
   ]
  },
  {
   "cell_type": "markdown",
   "metadata": {},
   "source": [
    "#### 6.3% of the time the answer is in the question. This is not enough to gain an edge in the game, but does indicate that certain topics may be recycled"
   ]
  },
  {
   "cell_type": "markdown",
   "metadata": {},
   "source": [
    "# Are Jeopardy questions recycled"
   ]
  },
  {
   "cell_type": "code",
   "execution_count": 13,
   "metadata": {},
   "outputs": [
    {
     "name": "stdout",
     "output_type": "stream",
     "text": [
      "0.21574382782134924\n"
     ]
    }
   ],
   "source": [
    "question_overlap = []\n",
    "terms_used = set()\n",
    "h = 0\n",
    "for index, row in jeopardy.iterrows():\n",
    "    split_question = row['question'].split()\n",
    "    match_count = 0\n",
    "    for word in split_question:\n",
    "        if len(word) > 5:                 # using words with more than 5 letters\n",
    "            if word in terms_used:\n",
    "                match_count += 1\n",
    "            terms_used.add(word)\n",
    "    if len(split_question) > 0:\n",
    "        question_overlap.append(match_count / len(split_question))\n",
    "jeopardy['question_overlap'] = question_overlap\n",
    "    \n",
    "print(np.mean(question_overlap))\n"
   ]
  },
  {
   "cell_type": "markdown",
   "metadata": {},
   "source": [
    "#### 21.5% of the terms used in the questions have overlap, this clearly indicates that some topics are more asked about than others and there may be certain topics worth studying more than others"
   ]
  },
  {
   "cell_type": "markdown",
   "metadata": {},
   "source": [
    "# Correlating high value points with recycled terms"
   ]
  },
  {
   "cell_type": "code",
   "execution_count": 14,
   "metadata": {},
   "outputs": [],
   "source": [
    "\"\"\"\n",
    "\n",
    "This function differentiates high value questions\n",
    "(questions worth more than $800)\n",
    "and low value questions\n",
    "\n",
    "\"\"\"\n",
    "\n",
    "def high_value(row):\n",
    "    if row['value'] > 800:\n",
    "        return 1\n",
    "    else:\n",
    "        return 0\n"
   ]
  },
  {
   "cell_type": "code",
   "execution_count": 15,
   "metadata": {},
   "outputs": [
    {
     "name": "stdout",
     "output_type": "stream",
     "text": [
      "0    14265\n",
      "1     5734\n",
      "Name: high_value_question, dtype: int64\n",
      "5734\n"
     ]
    }
   ],
   "source": [
    "# Verifying function high_value(row)\n",
    "\n",
    "jeopardy['high_value_question'] = jeopardy.apply(high_value, axis=1)\n",
    "print(jeopardy['high_value_question'].value_counts())\n",
    "print(len(jeopardy['value'][jeopardy['value'] > 800]))\n"
   ]
  },
  {
   "cell_type": "code",
   "execution_count": 16,
   "metadata": {},
   "outputs": [],
   "source": [
    "\"\"\"\n",
    "\n",
    "This function determines how many times a word is in a question\n",
    "\n",
    "The count is returned for the high value questions and the low value questions\n",
    "\n",
    "\"\"\"\n",
    "\n",
    "\n",
    "def word_count(word):\n",
    "    low_count = 0\n",
    "    high_count = 0\n",
    "    for index, row in jeopardy.iterrows():\n",
    "        split_question = row.question.split()\n",
    "        if word in split_question:\n",
    "            if row.high_value_question == 1:\n",
    "                high_count += 1\n",
    "            else:\n",
    "                low_count += 1\n",
    "    return high_count, low_count\n",
    "    "
   ]
  },
  {
   "cell_type": "code",
   "execution_count": 17,
   "metadata": {},
   "outputs": [],
   "source": [
    "\"\"\"\n",
    "\n",
    "Create a sample to compare back to the dataset and determine chi-squared\n",
    "\n",
    "\"\"\"\n",
    "\n",
    "terms_list = list(terms_used)\n",
    "comparison_terms = random.sample(terms_list, 10)\n",
    "observed_expected = []\n",
    "for term in comparison_terms:\n",
    "    observed_expected.append(word_count(term))\n"
   ]
  },
  {
   "cell_type": "code",
   "execution_count": 18,
   "metadata": {},
   "outputs": [
    {
     "name": "stdout",
     "output_type": "stream",
     "text": [
      "[(0, 2), (1, 1), (6, 10), (1, 0), (0, 1), (1, 1), (3, 1), (1, 2), (1, 0), (0, 1)]\n"
     ]
    }
   ],
   "source": [
    "print(observed_expected)\n"
   ]
  },
  {
   "cell_type": "code",
   "execution_count": 19,
   "metadata": {},
   "outputs": [],
   "source": [
    "from scipy.stats import chisquare\n",
    "\n",
    "high_value_count = len(jeopardy[jeopardy.high_value_question == 1])\n",
    "low_value_count = len(jeopardy[jeopardy.high_value_question == 0])\n",
    "chi_squared = []\n",
    "for items in observed_expected:\n",
    "    total = sum(items)\n",
    "    total_prop = total/len(jeopardy)\n",
    "    exp_high = total_prop * high_value_count\n",
    "    exp_low = total_prop * low_value_count\n",
    "\n",
    "    observed = np.array([items[0], items[1]])\n",
    "    expected = np.array([exp_high, exp_low])\n",
    "    chi_squared.append(chisquare(observed, expected))\n"
   ]
  },
  {
   "cell_type": "code",
   "execution_count": 22,
   "metadata": {},
   "outputs": [],
   "source": [
    "for i in chi_squared:\n",
    "    if i.pvalue < .04:    # setting p-value to 0.4\n",
    "        print(i.pvalue)"
   ]
  },
  {
   "cell_type": "markdown",
   "metadata": {},
   "source": [
    "# Conclusion:\n",
    "In this small sample, there doesn't appear to be a correlation between recycled questions and question value. "
   ]
  },
  {
   "cell_type": "code",
   "execution_count": null,
   "metadata": {},
   "outputs": [],
   "source": []
  }
 ],
 "metadata": {
  "kernelspec": {
   "display_name": "Python 3 (ipykernel)",
   "language": "python",
   "name": "python3"
  },
  "language_info": {
   "codemirror_mode": {
    "name": "ipython",
    "version": 3
   },
   "file_extension": ".py",
   "mimetype": "text/x-python",
   "name": "python",
   "nbconvert_exporter": "python",
   "pygments_lexer": "ipython3",
   "version": "3.9.7"
  }
 },
 "nbformat": 4,
 "nbformat_minor": 1
}
